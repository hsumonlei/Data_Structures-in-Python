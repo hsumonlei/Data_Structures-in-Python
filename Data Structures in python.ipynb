{
 "cells": [
  {
   "cell_type": "markdown",
   "id": "718d4195",
   "metadata": {},
   "source": [
    "# Sequence Types : String, lists, Tuple"
   ]
  },
  {
   "cell_type": "markdown",
   "id": "63b3289c",
   "metadata": {},
   "source": [
    "**indexing**\n",
    "-access any item in the sequence using its index.\n",
    "-index starts with 0 for the first element."
   ]
  },
  {
   "cell_type": "code",
   "execution_count": 1,
   "id": "2799625e",
   "metadata": {},
   "outputs": [
    {
     "name": "stdout",
     "output_type": "stream",
     "text": [
      "u\n"
     ]
    }
   ],
   "source": [
    "#string\n",
    "x =\"hsu\"\n",
    "print(x[2])"
   ]
  },
  {
   "cell_type": "code",
   "execution_count": 2,
   "id": "6ecdb9af",
   "metadata": {},
   "outputs": [
    {
     "name": "stdout",
     "output_type": "stream",
     "text": [
      "lei\n"
     ]
    }
   ],
   "source": [
    "#list\n",
    "x = ['hsu', 'mon', 'lei', 'aung']\n",
    "print(x[2])"
   ]
  },
  {
   "cell_type": "code",
   "execution_count": 3,
   "id": "22b185e3",
   "metadata": {},
   "outputs": [
    {
     "name": "stdout",
     "output_type": "stream",
     "text": [
      "nway\n"
     ]
    }
   ],
   "source": [
    "#tuple \n",
    "x = ('hsu', 'phyo', 'nway')\n",
    "print(x[2])"
   ]
  },
  {
   "cell_type": "markdown",
   "id": "e69d6623",
   "metadata": {},
   "source": [
    "**slicing** -slice out substrings, sublists, subtuples using indexes.\n",
    "**[start : end+1 : step]**"
   ]
  },
  {
   "cell_type": "code",
   "execution_count": 12,
   "id": "9c4e14e9",
   "metadata": {},
   "outputs": [
    {
     "name": "stdout",
     "output_type": "stream",
     "text": [
      "ata\n",
      "dt\n",
      "structure\n",
      "data\n",
      "e\n",
      "ture\n",
      "datastruct\n"
     ]
    }
   ],
   "source": [
    "x ='datastructure'\n",
    "print(x[1:4]) #default step : 1 , start count is inclusive and end is non inclusive\n",
    "print(x[0:4:2])\n",
    "print(x[4:])\n",
    "print(x[:4])\n",
    "print(x[-1]) #negative index means backword sequences\n",
    "print(x[-4:])\n",
    "print(x[:-3])"
   ]
  },
  {
   "cell_type": "markdown",
   "id": "5dbddb96",
   "metadata": {},
   "source": [
    "**adding/ concatenating** - combine 2 sequences of the same type by using +"
   ]
  },
  {
   "cell_type": "code",
   "execution_count": 15,
   "id": "6c1fdda2",
   "metadata": {},
   "outputs": [
    {
     "name": "stdout",
     "output_type": "stream",
     "text": [
      "pythonprogramming\n"
     ]
    }
   ],
   "source": [
    "#string\n",
    "x = 'python' + 'programming'\n",
    "print(x)"
   ]
  },
  {
   "cell_type": "code",
   "execution_count": 16,
   "id": "e512577a",
   "metadata": {},
   "outputs": [
    {
     "name": "stdout",
     "output_type": "stream",
     "text": [
      "['python', 'java', 'php']\n"
     ]
    }
   ],
   "source": [
    "#list\n",
    "y = ['python', 'java'] + ['php']\n",
    "print(y)"
   ]
  },
  {
   "cell_type": "code",
   "execution_count": 20,
   "id": "63f95bc9",
   "metadata": {},
   "outputs": [
    {
     "name": "stdout",
     "output_type": "stream",
     "text": [
      "('datastructure', 'algorithm', 'softwareEngineering', 'MachineLearning')\n"
     ]
    }
   ],
   "source": [
    "#tuple\n",
    "z =('datastructure', 'algorithm', 'softwareEngineering') + ('MachineLearning',) ## very important comma of second one that tell\n",
    "#python this is a tuple\n",
    "print(z)"
   ]
  },
  {
   "cell_type": "markdown",
   "id": "6dbf88e4",
   "metadata": {},
   "source": [
    "**multiplying**-multiply a sequence using *"
   ]
  },
  {
   "cell_type": "code",
   "execution_count": 21,
   "id": "c78cebc3",
   "metadata": {},
   "outputs": [
    {
     "name": "stdout",
     "output_type": "stream",
     "text": [
      "yesyesyesyes\n"
     ]
    }
   ],
   "source": [
    "#string\n",
    "x = 'yes' * 4\n",
    "print(x)"
   ]
  },
  {
   "cell_type": "code",
   "execution_count": 23,
   "id": "56a116db",
   "metadata": {},
   "outputs": [
    {
     "name": "stdout",
     "output_type": "stream",
     "text": [
      "[11, 8, 11, 8, 11, 8, 11, 8]\n"
     ]
    }
   ],
   "source": [
    "#list\n",
    "y = [11, 8] * 4\n",
    "print(y)"
   ]
  },
  {
   "cell_type": "code",
   "execution_count": 25,
   "id": "715a1739",
   "metadata": {},
   "outputs": [
    {
     "name": "stdout",
     "output_type": "stream",
     "text": [
      "(2, 9, 2, 9, 2, 9, 2, 9)\n"
     ]
    }
   ],
   "source": [
    "#tuple\n",
    "z = (2,9) * 4\n",
    "print(z)"
   ]
  },
  {
   "cell_type": "markdown",
   "id": "3331232e",
   "metadata": {},
   "source": [
    "**checking membership** -test whether an item is or is not in a sequence."
   ]
  },
  {
   "cell_type": "code",
   "execution_count": 28,
   "id": "dfbfe48a",
   "metadata": {},
   "outputs": [
    {
     "name": "stdout",
     "output_type": "stream",
     "text": [
      "True\n",
      "True\n",
      "False\n"
     ]
    }
   ],
   "source": [
    "##Return boolean value True or False\n",
    "#string\n",
    "x= 'data'\n",
    "print('a' in x)\n",
    "\n",
    "#list\n",
    "y = ['python', 'java', 'php']\n",
    "print('C++' not in y)\n",
    "\n",
    "#tuple\n",
    "z = ('datastructure', 'algorithm', 'softwareEngineering')\n",
    "print('MachineLearining' in z)"
   ]
  },
  {
   "cell_type": "markdown",
   "id": "2beb1a02",
   "metadata": {},
   "source": [
    "**iterating**- iterating through the items in a sequence"
   ]
  },
  {
   "cell_type": "code",
   "execution_count": 30,
   "id": "5a1b4c12",
   "metadata": {},
   "outputs": [
    {
     "name": "stdout",
     "output_type": "stream",
     "text": [
      "1\n",
      "9\n",
      "7\n",
      "3\n",
      "0 7\n",
      "1 8\n",
      "2 3\n"
     ]
    }
   ],
   "source": [
    "#x is a sequence\n",
    "#print item\n",
    "x = [1,9,7,3]\n",
    "for item in x:\n",
    "    print(item)\n",
    "    \n",
    "    \n",
    "#y is a sequence\n",
    "#print index and item using enumerate() that return both an index and an item\n",
    "y = [7,8,3]\n",
    "for index,item in enumerate(y):\n",
    "    print(index, item)"
   ]
  },
  {
   "cell_type": "markdown",
   "id": "7aa25117",
   "metadata": {},
   "source": [
    "**Counting the number of items** - count the number of items in a sequence"
   ]
  },
  {
   "cell_type": "code",
   "execution_count": 33,
   "id": "84ee4f8c",
   "metadata": {},
   "outputs": [
    {
     "name": "stdout",
     "output_type": "stream",
     "text": [
      "4\n",
      "3\n",
      "3\n"
     ]
    }
   ],
   "source": [
    "#string\n",
    "x = 'data'\n",
    "print(len(x))\n",
    "\n",
    "#list\n",
    "y = ['python', 'java', 'php']\n",
    "print(len(y))\n",
    "\n",
    "#tuple\n",
    "z = ('datastructure', 'algorithm', 'softwareEngineering')\n",
    "print(len(z))"
   ]
  },
  {
   "cell_type": "markdown",
   "id": "68daac35",
   "metadata": {},
   "source": [
    "**minimum** - find the minimum item in a sequence lexicographically. Alpha or numeric types, but cannot mix types."
   ]
  },
  {
   "cell_type": "code",
   "execution_count": 34,
   "id": "c1c2c52b",
   "metadata": {},
   "outputs": [
    {
     "name": "stdout",
     "output_type": "stream",
     "text": [
      "a\n",
      "java\n",
      "algorithm\n"
     ]
    }
   ],
   "source": [
    "#string\n",
    "x = 'data'\n",
    "print(min(x))\n",
    "\n",
    "#list\n",
    "y = ['python', 'java', 'php']\n",
    "print(min(y))\n",
    "\n",
    "#tuple\n",
    "z = ('datastructure', 'algorithm', 'softwareEngineering')\n",
    "print(min(z))"
   ]
  },
  {
   "cell_type": "markdown",
   "id": "2af99241",
   "metadata": {},
   "source": [
    "**maximum** - find the maximum item in a sequence lexicographically.\n",
    "Alpha or numeric types, but cannot mix types."
   ]
  },
  {
   "cell_type": "code",
   "execution_count": 35,
   "id": "f4430bba",
   "metadata": {},
   "outputs": [
    {
     "name": "stdout",
     "output_type": "stream",
     "text": [
      "t\n",
      "python\n",
      "softwareEngineering\n"
     ]
    }
   ],
   "source": [
    "#string\n",
    "x = 'data'\n",
    "print(max(x))\n",
    "\n",
    "#list\n",
    "y = ['python', 'java', 'php']\n",
    "print(max(y))\n",
    "\n",
    "#tuple\n",
    "z = ('datastructure', 'algorithm', 'softwareEngineering')\n",
    "print(max(z))"
   ]
  },
  {
   "cell_type": "markdown",
   "id": "a3d1c237",
   "metadata": {},
   "source": [
    "**sum** - find the sum of items in a sequence.\n",
    "Entire sequence must be numeric."
   ]
  },
  {
   "cell_type": "code",
   "execution_count": 42,
   "id": "2c3ab27c",
   "metadata": {},
   "outputs": [
    {
     "name": "stdout",
     "output_type": "stream",
     "text": [
      "6\n",
      "27\n",
      "20\n",
      "80\n"
     ]
    }
   ],
   "source": [
    "#string\n",
    "x = [1, 2, 3]\n",
    "print(sum(x))\n",
    "\n",
    "# #string \n",
    "# x = [2,4, 'even']\n",
    "# #shows error [ TypeError: unsupported operand type(s) for +: 'int' and 'str' ]\n",
    "# print(sum(x))\n",
    "\n",
    "#list\n",
    "y = [2,5,8,12]\n",
    "print(sum(y))\n",
    "print(sum(y[-2:])) #start from -2 to -1 \n",
    "\n",
    "#tuple\n",
    "z = (50, 4, 7, 19)\n",
    "print(sum(z))"
   ]
  },
  {
   "cell_type": "markdown",
   "id": "1d4eafb9",
   "metadata": {},
   "source": [
    "**sorting**- returns a new list of items in sorted order.\n",
    "Does not change the original list."
   ]
  },
  {
   "cell_type": "code",
   "execution_count": 43,
   "id": "f8048523",
   "metadata": {},
   "outputs": [
    {
     "name": "stdout",
     "output_type": "stream",
     "text": [
      "['a', 'a', 'd', 't']\n",
      "['java', 'php', 'python']\n",
      "['algorithm', 'datastructure', 'softwareEngineering']\n"
     ]
    }
   ],
   "source": [
    "#string\n",
    "x = 'data'\n",
    "print(sorted(x)) #return new list in sorted order\n",
    "\n",
    "#list\n",
    "y = ['python', 'java', 'php']\n",
    "print(sorted(y))\n",
    "\n",
    "#tuple\n",
    "z = ('datastructure', 'algorithm', 'softwareEngineering')\n",
    "print(sorted(z))"
   ]
  },
  {
   "cell_type": "markdown",
   "id": "e48f6670",
   "metadata": {},
   "source": [
    "**sorting**-sort by second letter\n",
    "Add a key parameter and a lambda function to return the second character.\n",
    "(the word **key** here is a defined parameter name, **k** is an arbitrary variable name)."
   ]
  },
  {
   "cell_type": "code",
   "execution_count": 54,
   "id": "89214a56",
   "metadata": {},
   "outputs": [
    {
     "name": "stdout",
     "output_type": "stream",
     "text": [
      "['algorithm', 'datastructure', 'machineLearning', 'softwareEngineering']\n",
      "['datastructure', 'machineLearning', 'algorithm', 'softwareEngineering']\n",
      "['machineLearning', 'softwareEngineering', 'algorithm', 'datastructure']\n",
      "['datastructure', 'machineLearning', 'algorithm', 'softwareEngineering']\n"
     ]
    }
   ],
   "source": [
    "#tuple\n",
    "z = ('datastructure', 'algorithm', 'softwareEngineering', 'machineLearning')\n",
    "print(sorted(z))#first letter ( d,a, s, m)=> (a,d,m,s)\n",
    "\n",
    "print(sorted(z, key=lambda k: k[1]))  #second letter (da,l,o,ma)=> (da,ma,l,o)\n",
    "print(sorted(z, key=lambda k: k[2])) #third letter (dat,alg,sof,mac)=> (mac,sof,alg,dat)\n",
    "print(sorted(z, key=lambda k: k[3])) #fourth letter (data,algo,soft,mach)=> (data,mach, lago, soft)"
   ]
  },
  {
   "cell_type": "markdown",
   "id": "3bb336f9",
   "metadata": {},
   "source": [
    "**count(item)** -returns count of an item"
   ]
  },
  {
   "cell_type": "code",
   "execution_count": 56,
   "id": "cd9da4d9",
   "metadata": {},
   "outputs": [
    {
     "name": "stdout",
     "output_type": "stream",
     "text": [
      "2\n",
      "2\n",
      "2\n"
     ]
    }
   ],
   "source": [
    "#string\n",
    "x = 'data'\n",
    "print(x.count('a'))\n",
    "\n",
    "#list\n",
    "y = ['python', 'java', 'php', 'python']\n",
    "print(y.count('python'))\n",
    "\n",
    "#tuple\n",
    "z = ('python', 'java', 'php', 'python')\n",
    "print(z.count('python'))"
   ]
  },
  {
   "cell_type": "markdown",
   "id": "bc553301",
   "metadata": {},
   "source": [
    "**index(item)** - returns the index of the first occurrence of an item."
   ]
  },
  {
   "cell_type": "code",
   "execution_count": 57,
   "id": "c6c61681",
   "metadata": {},
   "outputs": [
    {
     "name": "stdout",
     "output_type": "stream",
     "text": [
      "1\n",
      "0\n",
      "0\n"
     ]
    }
   ],
   "source": [
    "#string\n",
    "x = 'data'\n",
    "print(x.index('a'))\n",
    "\n",
    "#list\n",
    "y = ['python', 'java', 'php', 'python']\n",
    "print(y.index('python'))\n",
    "\n",
    "#tuple\n",
    "z = ('python', 'java', 'php', 'python')\n",
    "print(z.index('python'))"
   ]
  },
  {
   "cell_type": "markdown",
   "id": "05b679a4",
   "metadata": {},
   "source": [
    "**unpacking** - unpack the n items of a sequence into n variables"
   ]
  },
  {
   "cell_type": "code",
   "execution_count": 58,
   "id": "6ef9e6fc",
   "metadata": {},
   "outputs": [
    {
     "name": "stdout",
     "output_type": "stream",
     "text": [
      "python java php\n"
     ]
    }
   ],
   "source": [
    "y = ['python', 'java', 'php']\n",
    "a, b, c = y\n",
    "print(a, b, c)"
   ]
  },
  {
   "cell_type": "markdown",
   "id": "0b00e5eb",
   "metadata": {},
   "source": [
    "# Lists"
   ]
  },
  {
   "cell_type": "markdown",
   "id": "b75e9d31",
   "metadata": {},
   "source": [
    "1. General purpose\n",
    "2. Most widely used data structure\n",
    "3. Grow and shrink size as needed\n",
    "4. Sequence type\n",
    "5. Sortable"
   ]
  },
  {
   "cell_type": "markdown",
   "id": "cbf142f4",
   "metadata": {},
   "source": [
    "**constructors-** creating a new list"
   ]
  },
  {
   "cell_type": "code",
   "execution_count": 61,
   "id": "58ed83e1",
   "metadata": {},
   "outputs": [
    {
     "name": "stdout",
     "output_type": "stream",
     "text": [
      "[]\n",
      "['a', 25, 'dog', 8.43]\n",
      "[10, 20]\n"
     ]
    }
   ],
   "source": [
    "x = list () # create empty new list by  calling list() constructor\n",
    "print(x)\n",
    "y = ['a', 25, 'dog', 8.43] # separate comma with different datatypes\n",
    "print(y)\n",
    "\n",
    "tuple1 =(10, 20)\n",
    "z = list(tuple1) # we pass the tuple to a list constructor for creating list\n",
    "print(z)"
   ]
  },
  {
   "cell_type": "code",
   "execution_count": 66,
   "id": "ca84982d",
   "metadata": {},
   "outputs": [
    {
     "name": "stdout",
     "output_type": "stream",
     "text": [
      "[0, 1, 2, 3, 4, 5, 6]\n",
      "[0, 2, 4, 6, 8, 10, 12]\n",
      "[10, 12]\n"
     ]
    }
   ],
   "source": [
    "## list comprehension to create new list\n",
    "\n",
    "a = [i for i in range(7)] #\n",
    "print(a)\n",
    "\n",
    "b = [j*2 for j in range(7)]\n",
    "print(b)\n",
    "\n",
    "c = [k*2 for k in range(7) if k>4]\n",
    "print(c)"
   ]
  },
  {
   "cell_type": "markdown",
   "id": "a83c1f20",
   "metadata": {},
   "source": [
    "**delete**- delete a list or an item in a list"
   ]
  },
  {
   "cell_type": "code",
   "execution_count": 68,
   "id": "9ad51189",
   "metadata": {},
   "outputs": [
    {
     "name": "stdout",
     "output_type": "stream",
     "text": [
      "[2, 4, 6, 8, 10, 12]\n"
     ]
    }
   ],
   "source": [
    "z = [0, 2, 4, 6, 8, 10, 12]\n",
    "del(z[0])\n",
    "print(z)"
   ]
  },
  {
   "cell_type": "code",
   "execution_count": 69,
   "id": "e613ce8e",
   "metadata": {},
   "outputs": [],
   "source": [
    "#list z no longer exists\n",
    "del(z)"
   ]
  },
  {
   "cell_type": "code",
   "execution_count": 70,
   "id": "2d83adc5",
   "metadata": {},
   "outputs": [
    {
     "ename": "NameError",
     "evalue": "name 'z' is not defined",
     "output_type": "error",
     "traceback": [
      "\u001b[1;31m---------------------------------------------------------------------------\u001b[0m",
      "\u001b[1;31mNameError\u001b[0m                                 Traceback (most recent call last)",
      "\u001b[1;32m<ipython-input-70-c01ac3f50fdc>\u001b[0m in \u001b[0;36m<module>\u001b[1;34m\u001b[0m\n\u001b[1;32m----> 1\u001b[1;33m \u001b[0mprint\u001b[0m\u001b[1;33m(\u001b[0m\u001b[0mz\u001b[0m\u001b[1;33m)\u001b[0m\u001b[1;33m\u001b[0m\u001b[1;33m\u001b[0m\u001b[0m\n\u001b[0m",
      "\u001b[1;31mNameError\u001b[0m: name 'z' is not defined"
     ]
    }
   ],
   "source": [
    "print(z)"
   ]
  },
  {
   "cell_type": "markdown",
   "id": "3af98f8f",
   "metadata": {},
   "source": [
    "**append** - append an item to a list"
   ]
  },
  {
   "cell_type": "code",
   "execution_count": 73,
   "id": "d50a1d1f",
   "metadata": {},
   "outputs": [
    {
     "name": "stdout",
     "output_type": "stream",
     "text": [
      "[0, 2, 4, 6, 8, 10, 12, 14]\n"
     ]
    }
   ],
   "source": [
    "z = [0, 2, 4, 6, 8, 10, 12]\n",
    "\n",
    "z.append(14) #add an item on to the list is going to add it to the tail\n",
    "print(z)"
   ]
  },
  {
   "cell_type": "markdown",
   "id": "28d93919",
   "metadata": {},
   "source": [
    "**extend**- append a sequence to a list"
   ]
  },
  {
   "cell_type": "code",
   "execution_count": 75,
   "id": "c0fb0d1d",
   "metadata": {},
   "outputs": [
    {
     "name": "stdout",
     "output_type": "stream",
     "text": [
      "[0, 2, 4, 6, 8, 10, 12]\n",
      "[14, 16, 18]\n",
      "[0, 2, 4, 6, 8, 10, 12, 14, 16, 18]\n"
     ]
    }
   ],
   "source": [
    "z = [0, 2, 4, 6, 8, 10, 12]\n",
    "print(z)\n",
    "\n",
    "k = [14, 16, 18]\n",
    "print(k)\n",
    "\n",
    "z.extend(k) # add a list of tail of the first list extend basically is similar to the plus function that we\n",
    "print(z)\n"
   ]
  },
  {
   "cell_type": "markdown",
   "id": "0fbb7041",
   "metadata": {},
   "source": [
    "**insert**-insert an item at a given index"
   ]
  },
  {
   "cell_type": "code",
   "execution_count": 77,
   "id": "1e3cd2d8",
   "metadata": {},
   "outputs": [
    {
     "name": "stdout",
     "output_type": "stream",
     "text": [
      "[0, 2, 4, 6, 8, 10, 12]\n",
      "[0, 2, 3, 4, 6, 8, 10, 12]\n",
      "[0, ['a', 'b'], 2, 3, 4, 6, 8, 10, 12]\n"
     ]
    }
   ],
   "source": [
    "z = [0, 2, 4, 6, 8, 10, 12]\n",
    "print(z)\n",
    "z.insert(2,3) # insert value 3 to index 2\n",
    "print(z)\n",
    "\n",
    "z.insert(1, ['a','b'])\n",
    "print(z)"
   ]
  },
  {
   "cell_type": "markdown",
   "id": "a2efa0e5",
   "metadata": {},
   "source": [
    "**pop**- pops last item off list and returns item"
   ]
  },
  {
   "cell_type": "code",
   "execution_count": 78,
   "id": "f4cab31a",
   "metadata": {},
   "outputs": [
    {
     "name": "stdout",
     "output_type": "stream",
     "text": [
      "[0, 2, 4, 6, 8, 10]\n",
      "10\n"
     ]
    }
   ],
   "source": [
    "z = [0, 2, 4, 6, 8, 10, 12]\n",
    "z.pop()\n",
    "print(z)\n",
    "print(z.pop())"
   ]
  },
  {
   "cell_type": "markdown",
   "id": "0d9802a6",
   "metadata": {},
   "source": [
    "**remove** - remove first instance of an item"
   ]
  },
  {
   "cell_type": "code",
   "execution_count": 81,
   "id": "7ee07037",
   "metadata": {},
   "outputs": [
    {
     "name": "stdout",
     "output_type": "stream",
     "text": [
      "[2, 4, 6, 8, 10, 12]\n"
     ]
    }
   ],
   "source": [
    "z = [2, 2, 4, 6, 8, 10, 12]\n",
    "z.remove(2)\n",
    "print(z)"
   ]
  },
  {
   "cell_type": "markdown",
   "id": "e0969878",
   "metadata": {},
   "source": [
    "**reverse** - reverse the order of the list. It is an in-place sort, meaning it changes the original list."
   ]
  },
  {
   "cell_type": "code",
   "execution_count": null,
   "id": "3e877dae",
   "metadata": {},
   "outputs": [],
   "source": []
  }
 ],
 "metadata": {
  "kernelspec": {
   "display_name": "Python 3",
   "language": "python",
   "name": "python3"
  },
  "language_info": {
   "codemirror_mode": {
    "name": "ipython",
    "version": 3
   },
   "file_extension": ".py",
   "mimetype": "text/x-python",
   "name": "python",
   "nbconvert_exporter": "python",
   "pygments_lexer": "ipython3",
   "version": "3.7.4"
  }
 },
 "nbformat": 4,
 "nbformat_minor": 5
}
