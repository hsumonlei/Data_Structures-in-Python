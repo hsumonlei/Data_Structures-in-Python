{
 "cells": [
  {
   "cell_type": "markdown",
   "id": "718d4195",
   "metadata": {},
   "source": [
    "# Sequence Types : String, lists, Tuple"
   ]
  },
  {
   "cell_type": "markdown",
   "id": "63b3289c",
   "metadata": {},
   "source": [
    "**indexing**\n",
    "-access any item in the sequence using its index.\n",
    "-index starts with 0 for the first element."
   ]
  },
  {
   "cell_type": "code",
   "execution_count": 1,
   "id": "2799625e",
   "metadata": {},
   "outputs": [
    {
     "name": "stdout",
     "output_type": "stream",
     "text": [
      "u\n"
     ]
    }
   ],
   "source": [
    "#string\n",
    "x =\"hsu\"\n",
    "print(x[2])"
   ]
  },
  {
   "cell_type": "code",
   "execution_count": 2,
   "id": "6ecdb9af",
   "metadata": {},
   "outputs": [
    {
     "name": "stdout",
     "output_type": "stream",
     "text": [
      "lei\n"
     ]
    }
   ],
   "source": [
    "#list\n",
    "x = ['hsu', 'mon', 'lei', 'aung']\n",
    "print(x[2])"
   ]
  },
  {
   "cell_type": "code",
   "execution_count": 3,
   "id": "22b185e3",
   "metadata": {},
   "outputs": [
    {
     "name": "stdout",
     "output_type": "stream",
     "text": [
      "nway\n"
     ]
    }
   ],
   "source": [
    "#tuple \n",
    "x = ('hsu', 'phyo', 'nway')\n",
    "print(x[2])"
   ]
  },
  {
   "cell_type": "markdown",
   "id": "e69d6623",
   "metadata": {},
   "source": [
    "**slicing** -slice out substrings, sublists, subtuples using indexes.\n",
    "**[start : end+1 : step]**"
   ]
  },
  {
   "cell_type": "code",
   "execution_count": 12,
   "id": "9c4e14e9",
   "metadata": {},
   "outputs": [
    {
     "name": "stdout",
     "output_type": "stream",
     "text": [
      "ata\n",
      "dt\n",
      "structure\n",
      "data\n",
      "e\n",
      "ture\n",
      "datastruct\n"
     ]
    }
   ],
   "source": [
    "x ='datastructure'\n",
    "print(x[1:4]) #default step : 1 , start count is inclusive and end is non inclusive\n",
    "print(x[0:4:2])\n",
    "print(x[4:])\n",
    "print(x[:4])\n",
    "print(x[-1]) #negative index means backword sequences\n",
    "print(x[-4:])\n",
    "print(x[:-3])"
   ]
  },
  {
   "cell_type": "markdown",
   "id": "5dbddb96",
   "metadata": {},
   "source": [
    "**adding/ concatenating** - combine 2 sequences of the same type by using +"
   ]
  },
  {
   "cell_type": "code",
   "execution_count": 15,
   "id": "6c1fdda2",
   "metadata": {},
   "outputs": [
    {
     "name": "stdout",
     "output_type": "stream",
     "text": [
      "pythonprogramming\n"
     ]
    }
   ],
   "source": [
    "#string\n",
    "x = 'python' + 'programming'\n",
    "print(x)"
   ]
  },
  {
   "cell_type": "code",
   "execution_count": 16,
   "id": "e512577a",
   "metadata": {},
   "outputs": [
    {
     "name": "stdout",
     "output_type": "stream",
     "text": [
      "['python', 'java', 'php']\n"
     ]
    }
   ],
   "source": [
    "#list\n",
    "y = ['python', 'java'] + ['php']\n",
    "print(y)"
   ]
  },
  {
   "cell_type": "code",
   "execution_count": 20,
   "id": "63f95bc9",
   "metadata": {},
   "outputs": [
    {
     "name": "stdout",
     "output_type": "stream",
     "text": [
      "('datastructure', 'algorithm', 'softwareEngineering', 'MachineLearning')\n"
     ]
    }
   ],
   "source": [
    "#tuple\n",
    "z =('datastructure', 'algorithm', 'softwareEngineering') + ('MachineLearning',) ## very important comma of second one that tell\n",
    "#python this is a tuple\n",
    "print(z)"
   ]
  },
  {
   "cell_type": "markdown",
   "id": "6dbf88e4",
   "metadata": {},
   "source": [
    "**multiplying**-multiply a sequence using *"
   ]
  },
  {
   "cell_type": "code",
   "execution_count": 21,
   "id": "c78cebc3",
   "metadata": {},
   "outputs": [
    {
     "name": "stdout",
     "output_type": "stream",
     "text": [
      "yesyesyesyes\n"
     ]
    }
   ],
   "source": [
    "#string\n",
    "x = 'yes' * 4\n",
    "print(x)"
   ]
  },
  {
   "cell_type": "code",
   "execution_count": 23,
   "id": "56a116db",
   "metadata": {},
   "outputs": [
    {
     "name": "stdout",
     "output_type": "stream",
     "text": [
      "[11, 8, 11, 8, 11, 8, 11, 8]\n"
     ]
    }
   ],
   "source": [
    "#list\n",
    "y = [11, 8] * 4\n",
    "print(y)"
   ]
  },
  {
   "cell_type": "code",
   "execution_count": 25,
   "id": "715a1739",
   "metadata": {},
   "outputs": [
    {
     "name": "stdout",
     "output_type": "stream",
     "text": [
      "(2, 9, 2, 9, 2, 9, 2, 9)\n"
     ]
    }
   ],
   "source": [
    "#tuple\n",
    "z = (2,9) * 4\n",
    "print(z)"
   ]
  },
  {
   "cell_type": "markdown",
   "id": "3331232e",
   "metadata": {},
   "source": [
    "**checking membership** -test whether an item is or is not in a sequence."
   ]
  },
  {
   "cell_type": "code",
   "execution_count": 28,
   "id": "dfbfe48a",
   "metadata": {},
   "outputs": [
    {
     "name": "stdout",
     "output_type": "stream",
     "text": [
      "True\n",
      "True\n",
      "False\n"
     ]
    }
   ],
   "source": [
    "##Return boolean value True or False\n",
    "#string\n",
    "x= 'data'\n",
    "print('a' in x)\n",
    "\n",
    "#list\n",
    "y = ['python', 'java', 'php']\n",
    "print('C++' not in y)\n",
    "\n",
    "#tuple\n",
    "z = ('datastructure', 'algorithm', 'softwareEngineering')\n",
    "print('MachineLearining' in z)"
   ]
  },
  {
   "cell_type": "markdown",
   "id": "2beb1a02",
   "metadata": {},
   "source": [
    "**iterating**- iterating through the items in a sequence"
   ]
  },
  {
   "cell_type": "code",
   "execution_count": 30,
   "id": "5a1b4c12",
   "metadata": {},
   "outputs": [
    {
     "name": "stdout",
     "output_type": "stream",
     "text": [
      "1\n",
      "9\n",
      "7\n",
      "3\n",
      "0 7\n",
      "1 8\n",
      "2 3\n"
     ]
    }
   ],
   "source": [
    "#x is a sequence\n",
    "#print item\n",
    "x = [1,9,7,3]\n",
    "for item in x:\n",
    "    print(item)\n",
    "    \n",
    "    \n",
    "#y is a sequence\n",
    "#print index and item using enumerate() that return both an index and an item\n",
    "y = [7,8,3]\n",
    "for index,item in enumerate(y):\n",
    "    print(index, item)"
   ]
  },
  {
   "cell_type": "markdown",
   "id": "7aa25117",
   "metadata": {},
   "source": [
    "**Counting the number of items** - count the number of items in a sequence"
   ]
  },
  {
   "cell_type": "code",
   "execution_count": 33,
   "id": "84ee4f8c",
   "metadata": {},
   "outputs": [
    {
     "name": "stdout",
     "output_type": "stream",
     "text": [
      "4\n",
      "3\n",
      "3\n"
     ]
    }
   ],
   "source": [
    "#string\n",
    "x = 'data'\n",
    "print(len(x))\n",
    "\n",
    "#list\n",
    "y = ['python', 'java', 'php']\n",
    "print(len(y))\n",
    "\n",
    "#tuple\n",
    "z = ('datastructure', 'algorithm', 'softwareEngineering')\n",
    "print(len(z))"
   ]
  },
  {
   "cell_type": "markdown",
   "id": "68daac35",
   "metadata": {},
   "source": [
    "**minimum** - find the minimum item in a sequence lexicographically. Alpha or numeric types, but cannot mix types."
   ]
  },
  {
   "cell_type": "code",
   "execution_count": 34,
   "id": "c1c2c52b",
   "metadata": {},
   "outputs": [
    {
     "name": "stdout",
     "output_type": "stream",
     "text": [
      "a\n",
      "java\n",
      "algorithm\n"
     ]
    }
   ],
   "source": [
    "#string\n",
    "x = 'data'\n",
    "print(min(x))\n",
    "\n",
    "#list\n",
    "y = ['python', 'java', 'php']\n",
    "print(min(y))\n",
    "\n",
    "#tuple\n",
    "z = ('datastructure', 'algorithm', 'softwareEngineering')\n",
    "print(min(z))"
   ]
  },
  {
   "cell_type": "markdown",
   "id": "2af99241",
   "metadata": {},
   "source": [
    "**maximum** - find the maximum item in a sequence lexicographically.\n",
    "Alpha or numeric types, but cannot mix types."
   ]
  },
  {
   "cell_type": "code",
   "execution_count": 35,
   "id": "f4430bba",
   "metadata": {},
   "outputs": [
    {
     "name": "stdout",
     "output_type": "stream",
     "text": [
      "t\n",
      "python\n",
      "softwareEngineering\n"
     ]
    }
   ],
   "source": [
    "#string\n",
    "x = 'data'\n",
    "print(max(x))\n",
    "\n",
    "#list\n",
    "y = ['python', 'java', 'php']\n",
    "print(max(y))\n",
    "\n",
    "#tuple\n",
    "z = ('datastructure', 'algorithm', 'softwareEngineering')\n",
    "print(max(z))"
   ]
  },
  {
   "cell_type": "markdown",
   "id": "a3d1c237",
   "metadata": {},
   "source": [
    "**sum** - find the sum of items in a sequence.\n",
    "Entire sequence must be numeric."
   ]
  },
  {
   "cell_type": "code",
   "execution_count": 42,
   "id": "2c3ab27c",
   "metadata": {},
   "outputs": [
    {
     "name": "stdout",
     "output_type": "stream",
     "text": [
      "6\n",
      "27\n",
      "20\n",
      "80\n"
     ]
    }
   ],
   "source": [
    "#string\n",
    "x = [1, 2, 3]\n",
    "print(sum(x))\n",
    "\n",
    "# #string \n",
    "# x = [2,4, 'even']\n",
    "# #shows error [ TypeError: unsupported operand type(s) for +: 'int' and 'str' ]\n",
    "# print(sum(x))\n",
    "\n",
    "#list\n",
    "y = [2,5,8,12]\n",
    "print(sum(y))\n",
    "print(sum(y[-2:])) #start from -2 to -1 \n",
    "\n",
    "#tuple\n",
    "z = (50, 4, 7, 19)\n",
    "print(sum(z))"
   ]
  },
  {
   "cell_type": "markdown",
   "id": "1d4eafb9",
   "metadata": {},
   "source": [
    "**sorting**- returns a new list of items in sorted order.\n",
    "Does not change the original list."
   ]
  },
  {
   "cell_type": "code",
   "execution_count": 43,
   "id": "f8048523",
   "metadata": {},
   "outputs": [
    {
     "name": "stdout",
     "output_type": "stream",
     "text": [
      "['a', 'a', 'd', 't']\n",
      "['java', 'php', 'python']\n",
      "['algorithm', 'datastructure', 'softwareEngineering']\n"
     ]
    }
   ],
   "source": [
    "#string\n",
    "x = 'data'\n",
    "print(sorted(x)) #return new list in sorted order\n",
    "\n",
    "#list\n",
    "y = ['python', 'java', 'php']\n",
    "print(sorted(y))\n",
    "\n",
    "#tuple\n",
    "z = ('datastructure', 'algorithm', 'softwareEngineering')\n",
    "print(sorted(z))"
   ]
  },
  {
   "cell_type": "markdown",
   "id": "e48f6670",
   "metadata": {},
   "source": [
    "**sorting**-sort by second letter\n",
    "Add a key parameter and a lambda function to return the second character.\n",
    "(the word **key** here is a defined parameter name, **k** is an arbitrary variable name)."
   ]
  },
  {
   "cell_type": "code",
   "execution_count": 54,
   "id": "89214a56",
   "metadata": {},
   "outputs": [
    {
     "name": "stdout",
     "output_type": "stream",
     "text": [
      "['algorithm', 'datastructure', 'machineLearning', 'softwareEngineering']\n",
      "['datastructure', 'machineLearning', 'algorithm', 'softwareEngineering']\n",
      "['machineLearning', 'softwareEngineering', 'algorithm', 'datastructure']\n",
      "['datastructure', 'machineLearning', 'algorithm', 'softwareEngineering']\n"
     ]
    }
   ],
   "source": [
    "#tuple\n",
    "z = ('datastructure', 'algorithm', 'softwareEngineering', 'machineLearning')\n",
    "print(sorted(z))#first letter ( d,a, s, m)=> (a,d,m,s)\n",
    "\n",
    "print(sorted(z, key=lambda k: k[1]))  #second letter (da,l,o,ma)=> (da,ma,l,o)\n",
    "print(sorted(z, key=lambda k: k[2])) #third letter (dat,alg,sof,mac)=> (mac,sof,alg,dat)\n",
    "print(sorted(z, key=lambda k: k[3])) #fourth letter (data,algo,soft,mach)=> (data,mach, lago, soft)"
   ]
  },
  {
   "cell_type": "markdown",
   "id": "3bb336f9",
   "metadata": {},
   "source": [
    "**count(item)** -returns count of an item"
   ]
  },
  {
   "cell_type": "code",
   "execution_count": 56,
   "id": "cd9da4d9",
   "metadata": {},
   "outputs": [
    {
     "name": "stdout",
     "output_type": "stream",
     "text": [
      "2\n",
      "2\n",
      "2\n"
     ]
    }
   ],
   "source": [
    "#string\n",
    "x = 'data'\n",
    "print(x.count('a'))\n",
    "\n",
    "#list\n",
    "y = ['python', 'java', 'php', 'python']\n",
    "print(y.count('python'))\n",
    "\n",
    "#tuple\n",
    "z = ('python', 'java', 'php', 'python')\n",
    "print(z.count('python'))"
   ]
  },
  {
   "cell_type": "markdown",
   "id": "bc553301",
   "metadata": {},
   "source": [
    "**index(item)** - returns the index of the first occurrence of an item."
   ]
  },
  {
   "cell_type": "code",
   "execution_count": 57,
   "id": "c6c61681",
   "metadata": {},
   "outputs": [
    {
     "name": "stdout",
     "output_type": "stream",
     "text": [
      "1\n",
      "0\n",
      "0\n"
     ]
    }
   ],
   "source": [
    "#string\n",
    "x = 'data'\n",
    "print(x.index('a'))\n",
    "\n",
    "#list\n",
    "y = ['python', 'java', 'php', 'python']\n",
    "print(y.index('python'))\n",
    "\n",
    "#tuple\n",
    "z = ('python', 'java', 'php', 'python')\n",
    "print(z.index('python'))"
   ]
  },
  {
   "cell_type": "markdown",
   "id": "05b679a4",
   "metadata": {},
   "source": [
    "**unpacking** - unpack the n items of a sequence into n variables"
   ]
  },
  {
   "cell_type": "code",
   "execution_count": 58,
   "id": "6ef9e6fc",
   "metadata": {},
   "outputs": [
    {
     "name": "stdout",
     "output_type": "stream",
     "text": [
      "python java php\n"
     ]
    }
   ],
   "source": [
    "y = ['python', 'java', 'php']\n",
    "a, b, c = y\n",
    "print(a, b, c)"
   ]
  },
  {
   "cell_type": "markdown",
   "id": "0b00e5eb",
   "metadata": {},
   "source": [
    "# Lists"
   ]
  },
  {
   "cell_type": "markdown",
   "id": "b75e9d31",
   "metadata": {},
   "source": [
    "1. General purpose\n",
    "2. Most widely used data structure\n",
    "3. Grow and shrink size as needed\n",
    "4. Sequence type\n",
    "5. Sortable"
   ]
  },
  {
   "cell_type": "markdown",
   "id": "cbf142f4",
   "metadata": {},
   "source": [
    "**constructors-** creating a new list"
   ]
  },
  {
   "cell_type": "code",
   "execution_count": 61,
   "id": "58ed83e1",
   "metadata": {},
   "outputs": [
    {
     "name": "stdout",
     "output_type": "stream",
     "text": [
      "[]\n",
      "['a', 25, 'dog', 8.43]\n",
      "[10, 20]\n"
     ]
    }
   ],
   "source": [
    "x = list () # create empty new list by  calling list() constructor\n",
    "print(x)\n",
    "y = ['a', 25, 'dog', 8.43] # separate comma with different datatypes\n",
    "print(y)\n",
    "\n",
    "tuple1 =(10, 20)\n",
    "z = list(tuple1) # we pass the tuple to a list constructor for creating list\n",
    "print(z)"
   ]
  },
  {
   "cell_type": "code",
   "execution_count": 66,
   "id": "ca84982d",
   "metadata": {},
   "outputs": [
    {
     "name": "stdout",
     "output_type": "stream",
     "text": [
      "[0, 1, 2, 3, 4, 5, 6]\n",
      "[0, 2, 4, 6, 8, 10, 12]\n",
      "[10, 12]\n"
     ]
    }
   ],
   "source": [
    "## list comprehension to create new list\n",
    "\n",
    "a = [i for i in range(7)] #\n",
    "print(a)\n",
    "\n",
    "b = [j*2 for j in range(7)]\n",
    "print(b)\n",
    "\n",
    "c = [k*2 for k in range(7) if k>4]\n",
    "print(c)"
   ]
  },
  {
   "cell_type": "markdown",
   "id": "a83c1f20",
   "metadata": {},
   "source": [
    "**delete**- delete a list or an item in a list"
   ]
  },
  {
   "cell_type": "code",
   "execution_count": 68,
   "id": "9ad51189",
   "metadata": {},
   "outputs": [
    {
     "name": "stdout",
     "output_type": "stream",
     "text": [
      "[2, 4, 6, 8, 10, 12]\n"
     ]
    }
   ],
   "source": [
    "z = [0, 2, 4, 6, 8, 10, 12]\n",
    "del(z[0])\n",
    "print(z)"
   ]
  },
  {
   "cell_type": "code",
   "execution_count": 69,
   "id": "e613ce8e",
   "metadata": {},
   "outputs": [],
   "source": [
    "#list z no longer exists\n",
    "del(z)"
   ]
  },
  {
   "cell_type": "code",
   "execution_count": 70,
   "id": "2d83adc5",
   "metadata": {},
   "outputs": [
    {
     "ename": "NameError",
     "evalue": "name 'z' is not defined",
     "output_type": "error",
     "traceback": [
      "\u001b[1;31m---------------------------------------------------------------------------\u001b[0m",
      "\u001b[1;31mNameError\u001b[0m                                 Traceback (most recent call last)",
      "\u001b[1;32m<ipython-input-70-c01ac3f50fdc>\u001b[0m in \u001b[0;36m<module>\u001b[1;34m\u001b[0m\n\u001b[1;32m----> 1\u001b[1;33m \u001b[0mprint\u001b[0m\u001b[1;33m(\u001b[0m\u001b[0mz\u001b[0m\u001b[1;33m)\u001b[0m\u001b[1;33m\u001b[0m\u001b[1;33m\u001b[0m\u001b[0m\n\u001b[0m",
      "\u001b[1;31mNameError\u001b[0m: name 'z' is not defined"
     ]
    }
   ],
   "source": [
    "print(z)"
   ]
  },
  {
   "cell_type": "markdown",
   "id": "3af98f8f",
   "metadata": {},
   "source": [
    "**append** - append an item to a list"
   ]
  },
  {
   "cell_type": "code",
   "execution_count": 73,
   "id": "d50a1d1f",
   "metadata": {},
   "outputs": [
    {
     "name": "stdout",
     "output_type": "stream",
     "text": [
      "[0, 2, 4, 6, 8, 10, 12, 14]\n"
     ]
    }
   ],
   "source": [
    "z = [0, 2, 4, 6, 8, 10, 12]\n",
    "\n",
    "z.append(14) #add an item on to the list is going to add it to the tail\n",
    "print(z)"
   ]
  },
  {
   "cell_type": "markdown",
   "id": "28d93919",
   "metadata": {},
   "source": [
    "**extend**- append a sequence to a list"
   ]
  },
  {
   "cell_type": "code",
   "execution_count": 75,
   "id": "c0fb0d1d",
   "metadata": {},
   "outputs": [
    {
     "name": "stdout",
     "output_type": "stream",
     "text": [
      "[0, 2, 4, 6, 8, 10, 12]\n",
      "[14, 16, 18]\n",
      "[0, 2, 4, 6, 8, 10, 12, 14, 16, 18]\n"
     ]
    }
   ],
   "source": [
    "z = [0, 2, 4, 6, 8, 10, 12]\n",
    "print(z)\n",
    "\n",
    "k = [14, 16, 18]\n",
    "print(k)\n",
    "\n",
    "z.extend(k) # add a list of tail of the first list extend basically is similar to the plus function that we\n",
    "print(z)\n"
   ]
  },
  {
   "cell_type": "markdown",
   "id": "0fbb7041",
   "metadata": {},
   "source": [
    "**insert**-insert an item at a given index"
   ]
  },
  {
   "cell_type": "code",
   "execution_count": 77,
   "id": "1e3cd2d8",
   "metadata": {},
   "outputs": [
    {
     "name": "stdout",
     "output_type": "stream",
     "text": [
      "[0, 2, 4, 6, 8, 10, 12]\n",
      "[0, 2, 3, 4, 6, 8, 10, 12]\n",
      "[0, ['a', 'b'], 2, 3, 4, 6, 8, 10, 12]\n"
     ]
    }
   ],
   "source": [
    "z = [0, 2, 4, 6, 8, 10, 12]\n",
    "print(z)\n",
    "z.insert(2,3) # insert value 3 to index 2\n",
    "print(z)\n",
    "\n",
    "z.insert(1, ['a','b'])\n",
    "print(z)"
   ]
  },
  {
   "cell_type": "markdown",
   "id": "a2efa0e5",
   "metadata": {},
   "source": [
    "**pop**- pops last item off list and returns item"
   ]
  },
  {
   "cell_type": "code",
   "execution_count": 78,
   "id": "f4cab31a",
   "metadata": {},
   "outputs": [
    {
     "name": "stdout",
     "output_type": "stream",
     "text": [
      "[0, 2, 4, 6, 8, 10]\n",
      "10\n"
     ]
    }
   ],
   "source": [
    "z = [0, 2, 4, 6, 8, 10, 12]\n",
    "z.pop()\n",
    "print(z)\n",
    "print(z.pop())"
   ]
  },
  {
   "cell_type": "markdown",
   "id": "0d9802a6",
   "metadata": {},
   "source": [
    "**remove** - remove first instance of an item"
   ]
  },
  {
   "cell_type": "code",
   "execution_count": 81,
   "id": "7ee07037",
   "metadata": {},
   "outputs": [
    {
     "name": "stdout",
     "output_type": "stream",
     "text": [
      "[2, 4, 6, 8, 10, 12]\n"
     ]
    }
   ],
   "source": [
    "z = [2, 2, 4, 6, 8, 10, 12]\n",
    "z.remove(2)\n",
    "print(z)"
   ]
  },
  {
   "cell_type": "markdown",
   "id": "e0969878",
   "metadata": {},
   "source": [
    "**reverse** - reverse the order of the list. It is an in-place sort, meaning it changes the original list."
   ]
  },
  {
   "cell_type": "code",
   "execution_count": 1,
   "id": "3e877dae",
   "metadata": {},
   "outputs": [
    {
     "name": "stdout",
     "output_type": "stream",
     "text": [
      "[12, 10, 8, 6, 4, 2, 0]\n"
     ]
    }
   ],
   "source": [
    "z = [0, 2, 4, 6, 8, 10, 12]\n",
    "z.reverse()\n",
    "print(z)"
   ]
  },
  {
   "cell_type": "markdown",
   "id": "9c906a7d",
   "metadata": {},
   "source": [
    "**sort** - sort the list in place.\n",
    "\n",
    "> Note:\n",
    "    sorted(z) returns a new sorted list without changing the original list x.\n",
    "    x.sort() puts the items of x in sorted order(sorts in place).\n",
    "    \n",
    "**reverse sort** - sort items descending.\n",
    "Use reverse = True parameter to the sort function."
   ]
  },
  {
   "cell_type": "code",
   "execution_count": 5,
   "id": "5d978046",
   "metadata": {},
   "outputs": [
    {
     "name": "stdout",
     "output_type": "stream",
     "text": [
      "Sorted list:\n",
      "[1, 2, 3, 4, 6, 8, 9]\n",
      "\n",
      "Reverse sorted list:\n",
      "[9, 8, 6, 4, 3, 2, 1]\n",
      "\n",
      "Original list after sorting:\n",
      "[9, 2, 8, 6, 4, 1, 3]\n"
     ]
    }
   ],
   "source": [
    "z = [ 9,2,8,6,4,1,3]\n",
    "\n",
    "print(\"Sorted list:\")\n",
    "print(sorted(z))\n",
    " \n",
    "print(\"\\nReverse sorted list:\")\n",
    "print(sorted(z, reverse = True))\n",
    " \n",
    "print(\"\\nOriginal list after sorting:\") # returns a new sorted list without changing the original list\n",
    "print(z)"
   ]
  },
  {
   "cell_type": "code",
   "execution_count": 6,
   "id": "168bb65f",
   "metadata": {},
   "outputs": [
    {
     "name": "stdout",
     "output_type": "stream",
     "text": [
      "[1, 2, 3, 4, 6, 8, 9]\n",
      "[1.68, 2.0, 2.01, 3.28, 3.67]\n",
      "['For', 'Geeks', 'Geeks']\n"
     ]
    }
   ],
   "source": [
    "#sort() function is very similar to sorted() \n",
    "#but unlike sorted it returns nothing and makes changes\n",
    "#to the original sequence. Moreover, sort() is a method of list class and can only be used with lists.\n",
    "\n",
    "# Python program to demonstrate\n",
    "# sort()\n",
    " \n",
    " \n",
    "# List of Integers\n",
    "z = [ 9,2,8,6,4,1,3]\n",
    "   \n",
    "# Sorting list of Integers\n",
    "z.sort()\n",
    "   \n",
    "print(z)\n",
    "   \n",
    "# List of Floating point numbers\n",
    "decimalnumber = [2.01, 2.00, 3.67, 3.28, 1.68]\n",
    "   \n",
    "# Sorting list of Floating point numbers\n",
    "decimalnumber.sort()\n",
    "   \n",
    "print(decimalnumber)\n",
    "   \n",
    "# List of strings\n",
    "words = [\"Geeks\", \"For\", \"Geeks\"]\n",
    "   \n",
    "# Sorting list of strings\n",
    "words.sort()\n",
    "   \n",
    "print(words)"
   ]
  },
  {
   "cell_type": "markdown",
   "id": "8ff8cb7e",
   "metadata": {},
   "source": [
    "## Tuples"
   ]
  },
  {
   "cell_type": "markdown",
   "id": "4842f0e9",
   "metadata": {},
   "source": [
    "- Immutable (can't add/change)\n",
    "- Useful for fixed data\n",
    "- Faster than Lists\n",
    "-Sequence type"
   ]
  },
  {
   "cell_type": "markdown",
   "id": "b54a8a1e",
   "metadata": {},
   "source": [
    "**constructors** - creating new tuples."
   ]
  },
  {
   "cell_type": "code",
   "execution_count": 7,
   "id": "f74d7907",
   "metadata": {},
   "outputs": [
    {
     "name": "stdout",
     "output_type": "stream",
     "text": [
      "(2,) <class 'tuple'>\n"
     ]
    }
   ],
   "source": [
    "x = () # to create new tuples by using () as a constructor\n",
    "\n",
    "x = (1,2,3) # () with passing items\n",
    "\n",
    "x = 1, 2, 3 # () is optional and without () but separate comma python knows that is tuple\n",
    "\n",
    "x = 2, # the comma tells Python it's a tuple This is a one item tuple not integer\n",
    "\n",
    "print(x, type(x))\n"
   ]
  },
  {
   "cell_type": "code",
   "execution_count": 8,
   "id": "5661fb98",
   "metadata": {},
   "outputs": [
    {
     "name": "stdout",
     "output_type": "stream",
     "text": [
      "(2, 4, 6, 8) <class 'tuple'>\n"
     ]
    }
   ],
   "source": [
    "# insert list into tuple\n",
    "\n",
    "list_1 = [2,4,6,8]\n",
    "x = tuple(list_1)\n",
    "print(x, type(x))"
   ]
  },
  {
   "cell_type": "markdown",
   "id": "052e1b54",
   "metadata": {},
   "source": [
    "**tuples are immutable**, but member objects may be mutable."
   ]
  },
  {
   "cell_type": "code",
   "execution_count": 14,
   "id": "b987b689",
   "metadata": {},
   "outputs": [
    {
     "name": "stdout",
     "output_type": "stream",
     "text": [
      "([4], 2, 1)\n",
      "([4], 2, 1, 0)\n"
     ]
    }
   ],
   "source": [
    "# x = ( 4, 3, 2, 1)\n",
    "\n",
    "# del(x[3]) # show error => TypeError: 'tuple' object doesn't support item deletion\n",
    "\n",
    "# x[4] = 0 # show error => TypeError: 'tuple' object does not support item assignment\n",
    "\n",
    "\n",
    "a = ([4, 3], 2, 1) # a tuple where the first item is a list\n",
    "del(a[0][1]) # delete the 3\n",
    "print(a) # So the list in the tuple is mutable\n",
    "\n",
    "#tuples concatenating\n",
    "\n",
    "a += (0,)\n",
    "print(a)"
   ]
  },
  {
   "cell_type": "markdown",
   "id": "c904fc33",
   "metadata": {},
   "source": [
    "## Sets"
   ]
  },
  {
   "cell_type": "markdown",
   "id": "0989aefe",
   "metadata": {},
   "source": [
    "- Store non-duplicate items\n",
    "- Very fast access vs List\n",
    "- Math Set ops (union, intersect)\n",
    "- Sets are Unordered"
   ]
  },
  {
   "cell_type": "markdown",
   "id": "02192106",
   "metadata": {},
   "source": [
    "**constructors** - creating new sets"
   ]
  },
  {
   "cell_type": "code",
   "execution_count": 15,
   "id": "4bcf7120",
   "metadata": {},
   "outputs": [
    {
     "name": "stdout",
     "output_type": "stream",
     "text": [
      "{8, 11, 5, 30}\n"
     ]
    }
   ],
   "source": [
    "# unique items are stored in set\n",
    "\n",
    "s = {11, 30 , 5, 8, 11, 30}\n",
    "print(s)"
   ]
  },
  {
   "cell_type": "code",
   "execution_count": 16,
   "id": "82bdaa18",
   "metadata": {},
   "outputs": [
    {
     "name": "stdout",
     "output_type": "stream",
     "text": [
      "set()\n"
     ]
    }
   ],
   "source": [
    "y = set()\n",
    "print(y)"
   ]
  },
  {
   "cell_type": "code",
   "execution_count": 17,
   "id": "de382ff3",
   "metadata": {},
   "outputs": [
    {
     "name": "stdout",
     "output_type": "stream",
     "text": [
      "{8, 2, 4, 6} <class 'set'>\n"
     ]
    }
   ],
   "source": [
    "#insert list into set\n",
    "list_1 = [2,4,6,8]\n",
    "s = set(list_1)\n",
    "print(s, type(s)) # show in unordered list that cannot sort the set"
   ]
  },
  {
   "cell_type": "markdown",
   "id": "87b867fd",
   "metadata": {},
   "source": [
    "**set operations** \n",
    "- add\n",
    "- remove\n",
    "- length of set \n",
    "- check membershiop in x\n",
    "- pop random item from set\n",
    "- delete all items from set"
   ]
  },
  {
   "cell_type": "code",
   "execution_count": 27,
   "id": "31a9e5e0",
   "metadata": {},
   "outputs": [
    {
     "name": "stdout",
     "output_type": "stream",
     "text": [
      "{8, 11, 5, 30}\n",
      "{5, 8, 11, 30, 31}\n",
      "{5, 8, 11, 30}\n",
      "4\n",
      "True\n",
      "False\n",
      "5\n",
      "{8, 11, 30}\n",
      "set()\n"
     ]
    }
   ],
   "source": [
    "s = {11, 30 , 5, 8}\n",
    "print(s)\n",
    "\n",
    "s.add(31)\n",
    "print(s)\n",
    "\n",
    "s.remove(31)\n",
    "print(s)\n",
    "\n",
    "#get length of set \n",
    "print(len(s))\n",
    "\n",
    "#check membership in x\n",
    "print(11 in s)\n",
    "print(31 in s)\n",
    "\n",
    "#pop random item from set\n",
    "print(s.pop())\n",
    "print(s)\n",
    "\n",
    "#delete all items from set\n",
    "s.clear()\n",
    "print(s)"
   ]
  },
  {
   "cell_type": "markdown",
   "id": "7f6fb3cf",
   "metadata": {},
   "source": [
    "**Mathematical Set Operations**"
   ]
  },
  {
   "cell_type": "markdown",
   "id": "b95b10d1",
   "metadata": {},
   "source": [
    "- **intersection(AND)** : set1 & set2\n",
    "- **union(OR)** : set1 | set2\n",
    "- **symmetric difference(XOR)** : set1 ^ set2\n",
    "-  **difference (in set1 but not set2)** : set1 - set2\n",
    "- **subset** (set2 contains set1) : set1 <= set2\n",
    "- **superset** (set1 contains set2): set1 >= set2"
   ]
  },
  {
   "cell_type": "code",
   "execution_count": 9,
   "id": "98783b56",
   "metadata": {},
   "outputs": [
    {
     "name": "stdout",
     "output_type": "stream",
     "text": [
      "Set Intersetction (AND) : {2, 3, 4, 5}\n",
      "Set Union (OR) : {1, 2, 3, 4, 5, 6, 7, 8}\n",
      "symmetric difference(XOR): {1, 6, 7, 8}\n",
      "difference  {8, 6, 7}\n",
      "Set1 subset set2 (set1 <= set2) set2 contains set1 :  False\n",
      "Set1 contains set2 (set1 >= set2) Superset  :  False\n"
     ]
    }
   ],
   "source": [
    "# create set using {}\n",
    "\n",
    "s1 = {2,3,4,5,6,7,8}\n",
    "\n",
    "s2 = {1,2,3,4,5}\n",
    "\n",
    "print(\"Set Intersetction (AND) :\", s1 & s2)\n",
    "\n",
    "print(\"Set Union (OR) :\", s1 | s2)\n",
    "\n",
    "print(\"symmetric difference(XOR):\", s1 ^ s2)\n",
    "\n",
    "print(\"difference \", s1 - s2)\n",
    "\n",
    "print(\"Set1 subset set2 (set1 <= set2) set2 contains set1 : \", s1 <= s2) #return true or false\n",
    "\n",
    "print(\"Set1 contains set2 (set1 >= set2) Superset  : \", s1 >= s2)\n"
   ]
  },
  {
   "cell_type": "markdown",
   "id": "c7435b10",
   "metadata": {},
   "source": [
    "## Dictionaries (dict)"
   ]
  },
  {
   "cell_type": "markdown",
   "id": "de4dfe91",
   "metadata": {},
   "source": [
    "- key/Value pairs\n",
    "- Associative arry, like Java HashMap\n",
    "- Dicts are Unordered"
   ]
  },
  {
   "cell_type": "code",
   "execution_count": 10,
   "id": "09ee09d1",
   "metadata": {},
   "outputs": [
    {
     "name": "stdout",
     "output_type": "stream",
     "text": [
      "{'rose': 3.2, 'jasmine': 1.2, 'orchid': 5.4} <class 'dict'>\n",
      "{'rose': 3.2, 'jasmine': 1.2, 'orchid': 5.4} <class 'dict'>\n",
      "{'rose': 3.2, 'jasmine': 1.2, 'orchid': 5.4} <class 'dict'>\n"
     ]
    }
   ],
   "source": [
    " #create dictionary by {}\n",
    "flowers = {'rose' : 3.2, 'jasmine' : 1.2, 'orchid' : 5.4}\n",
    "\n",
    "print(flowers, type(flowers))\n",
    "\n",
    "\n",
    " #create dictionary by dict([(),(),()])\n",
    "flowers = dict([('rose' , 3.2), ('jasmine' , 1.2), ('orchid' , 5.4)])\n",
    "\n",
    "print(flowers, type(flowers))\n",
    "\n",
    " #create dictionary by dict()\n",
    "flowers = dict(rose=3.2, jasmine = 1.2, orchid = 5.4)\n",
    "\n",
    "print(flowers, type(flowers))\n"
   ]
  },
  {
   "cell_type": "markdown",
   "id": "f4269674",
   "metadata": {},
   "source": [
    "## dict operations"
   ]
  },
  {
   "cell_type": "markdown",
   "id": "f9369922",
   "metadata": {},
   "source": [
    "- add or update \n",
    "- delete an item\n",
    "- get length of dict x\n",
    "- delete all items from dict x\n",
    "- delete dict x"
   ]
  },
  {
   "cell_type": "code",
   "execution_count": 11,
   "id": "e9654728",
   "metadata": {},
   "outputs": [
    {
     "name": "stdout",
     "output_type": "stream",
     "text": [
      "{'rose': 3.2, 'jasmine': 1.2, 'orchid': 5.4, 'sunflower': 1.5}\n"
     ]
    }
   ],
   "source": [
    "flowers['sunflower'] = 1.500\n",
    "print(flowers)"
   ]
  },
  {
   "cell_type": "code",
   "execution_count": 12,
   "id": "a6d09122",
   "metadata": {},
   "outputs": [
    {
     "name": "stdout",
     "output_type": "stream",
     "text": [
      "4\n"
     ]
    }
   ],
   "source": [
    "print(len(flowers))"
   ]
  },
  {
   "cell_type": "code",
   "execution_count": 13,
   "id": "0c51b2ca",
   "metadata": {},
   "outputs": [
    {
     "name": "stdout",
     "output_type": "stream",
     "text": [
      "{'rose': 3.2, 'jasmine': 1.2, 'sunflower': 1.5}\n",
      "{}\n"
     ]
    }
   ],
   "source": [
    "#delete an item\n",
    "del(flowers['orchid'])\n",
    "print(flowers)\n",
    "\n",
    "#delete all items from dict\n",
    "flowers.clear()\n",
    "print(flowers)\n",
    "\n",
    "#delete dict\n",
    "del(flowers)"
   ]
  },
  {
   "cell_type": "markdown",
   "id": "74ade75e",
   "metadata": {},
   "source": [
    "## accessing keys and values in a dict\n",
    "Not compatiable with python 2"
   ]
  },
  {
   "cell_type": "code",
   "execution_count": 16,
   "id": "ea42416f",
   "metadata": {},
   "outputs": [
    {
     "name": "stdout",
     "output_type": "stream",
     "text": [
      "dict_keys(['C2D', 'Tha_din', 'PaDayTharPin'])\n",
      "dict_values([5.5, 5.6, 5.7])\n",
      "dict_items([('C2D', 5.5), ('Tha_din', 5.6), ('PaDayTharPin', 5.7)])\n",
      "True\n",
      "False\n",
      "True\n"
     ]
    }
   ],
   "source": [
    "click = {'C2D' : 5.5 , 'Tha_din': 5.6, 'PaDayTharPin' : 5.7}\n",
    "\n",
    "print(click.keys())\n",
    "print(click.values())\n",
    "print(click.items()) # key-value pairs\n",
    "\n",
    "#check membership in y_keys(only looks in keys, not values)\n",
    "print('C2D' in click)\n",
    "\n",
    "#check membership in y_values\n",
    "print('5.5' in click.values())\n",
    "print(5.5 in click.values())"
   ]
  },
  {
   "cell_type": "markdown",
   "id": "4b3ea9a2",
   "metadata": {},
   "source": [
    "## iterating a dict\n",
    "- note. items are in random order."
   ]
  },
  {
   "cell_type": "code",
   "execution_count": 18,
   "id": "d57a0354",
   "metadata": {},
   "outputs": [
    {
     "name": "stdout",
     "output_type": "stream",
     "text": [
      "C2D 5.5\n",
      "Tha_din 5.6\n",
      "PaDayTharPin 5.7\n",
      "C2D 5.5\n",
      "Tha_din 5.6\n",
      "PaDayTharPin 5.7\n"
     ]
    }
   ],
   "source": [
    "for key in click:\n",
    "    print(key, click[key]) # print key in click and print values of click by key\n",
    "    \n",
    "for key,value in click.items():\n",
    "    print(key,value)"
   ]
  },
  {
   "cell_type": "markdown",
   "id": "2ec6b893",
   "metadata": {},
   "source": [
    "## Python List Comprehensions"
   ]
  },
  {
   "cell_type": "markdown",
   "id": "3997797d",
   "metadata": {},
   "source": [
    "basic format : new_list = [transform sequence [filter]]"
   ]
  },
  {
   "cell_type": "markdown",
   "id": "e31ef6a6",
   "metadata": {},
   "source": [
    "**get values within a range**"
   ]
  },
  {
   "cell_type": "code",
   "execution_count": 21,
   "id": "0a8882a2",
   "metadata": {},
   "outputs": [
    {
     "name": "stdout",
     "output_type": "stream",
     "text": [
      "first 10 number : \n",
      "[0, 1, 2, 3, 4, 5, 6, 7, 8, 9]\n",
      "first 10 number  as string : [0, 1, 2, 3, 4, 5, 6, 7, 8, 9]\n"
     ]
    }
   ],
   "source": [
    "first_10_example = [x for x in range(10)]\n",
    "\n",
    "#print(\"first 10 number : \" + first_10_example) #TypeError: can only concatenate str (not \"list\") to str\n",
    "print(\"first 10 number : \" )\n",
    "print(first_10_example)\n",
    "print(\"first 10 number  as string : \" + str(first_10_example))"
   ]
  },
  {
   "cell_type": "markdown",
   "id": "dedd8992",
   "metadata": {},
   "source": [
    "**get squared values**"
   ]
  },
  {
   "cell_type": "code",
   "execution_count": 22,
   "id": "c6714b52",
   "metadata": {},
   "outputs": [
    {
     "name": "stdout",
     "output_type": "stream",
     "text": [
      "squared_value_of_first 10 number as string : [0, 1, 4, 9, 16, 25, 36, 49, 64, 81]\n"
     ]
    }
   ],
   "source": [
    "squared_value_example = [x**2 for x in range(10)]\n",
    "print(\"squared_value_of_first 10 number as string : \" + str(squared_value_example))"
   ]
  },
  {
   "cell_type": "markdown",
   "id": "e59b0307",
   "metadata": {},
   "source": [
    "**get odd numbers using mod**"
   ]
  },
  {
   "cell_type": "code",
   "execution_count": 23,
   "id": "8a5bea90",
   "metadata": {},
   "outputs": [
    {
     "name": "stdout",
     "output_type": "stream",
     "text": [
      "odds : [1, 3, 5, 7, 9]\n"
     ]
    }
   ],
   "source": [
    "odds = [x for x in range(10) if x%2 == 1]\n",
    "print(\"odds : \" + str(odds))"
   ]
  },
  {
   "cell_type": "markdown",
   "id": "7cf8448a",
   "metadata": {},
   "source": [
    "**get multiples of 10**"
   ]
  },
  {
   "cell_type": "code",
   "execution_count": 24,
   "id": "c94ab5f9",
   "metadata": {},
   "outputs": [
    {
     "name": "stdout",
     "output_type": "stream",
     "text": [
      "multiple_of_ten :[0, 10, 20, 30, 40, 50, 60, 70, 80, 90]\n"
     ]
    }
   ],
   "source": [
    "multiple_of_ten = [x * 10 for x in range(10)]\n",
    "print('multiple_of_ten :'+str(multiple_of_ten))"
   ]
  },
  {
   "cell_type": "markdown",
   "id": "2c13ef14",
   "metadata": {},
   "source": [
    "**get all numbers from a string**\n",
    "- isnumeric()"
   ]
  },
  {
   "cell_type": "code",
   "execution_count": 29,
   "id": "87528764",
   "metadata": {},
   "outputs": [
    {
     "name": "stdout",
     "output_type": "stream",
     "text": [
      "nums : 123456\n"
     ]
    }
   ],
   "source": [
    "numbers_in_string = \"hello testing 123 let's start count 4 to 5 end 6\"\n",
    "nums = [x for x in numbers_in_string if x.isnumeric()]\n",
    "\n",
    "print('nums : ' + ''.join(nums))"
   ]
  },
  {
   "cell_type": "markdown",
   "id": "14e6d0fd",
   "metadata": {},
   "source": [
    "**get index of a list item**"
   ]
  },
  {
   "cell_type": "code",
   "execution_count": 41,
   "id": "4d3be633",
   "metadata": {},
   "outputs": [
    {
     "name": "stdout",
     "output_type": "stream",
     "text": [
      "index of list key value pair = 0\n",
      "2\n",
      "index of list key value pair = 2\n",
      "index of list key value pair = 3\n"
     ]
    }
   ],
   "source": [
    "list_click = ['C2D' , 'Tha_din', 'PaDayTharPin' , 'PaDayTharPin']\n",
    "idx = [key for key,value in enumerate(list_click) if value == 'C2D']\n",
    "print('index of list key value pair = ' + str(idx[0]))\n",
    "\n",
    "\n",
    "idx = [key for key,value in enumerate(list_click) if value == 'PaDayTharPin']\n",
    "print(len(idx))\n",
    "for i in range(len(idx)):\n",
    "    print('index of list key value pair = ' + str(idx[i]))\n",
    "\n",
    "\n"
   ]
  },
  {
   "cell_type": "markdown",
   "id": "800ce096",
   "metadata": {},
   "source": [
    "**delete an item from a list**"
   ]
  },
  {
   "cell_type": "code",
   "execution_count": 44,
   "id": "3476d521",
   "metadata": {},
   "outputs": [
    {
     "name": "stdout",
     "output_type": "stream",
     "text": [
      "['l', 'v', 'e', 'l', 'e']\n",
      "['l', 'v', 'e', 'l', 'e'] ['l', 'v', 'l']\n"
     ]
    }
   ],
   "source": [
    "import random\n",
    "\n",
    "letters = [x for x in 'level']\n",
    "random.shuffle(letters)\n",
    "\n",
    "print(letters)\n",
    "\n",
    "letrs = [a for a in letters if a != 'e']\n",
    "print(letters, letrs)\n"
   ]
  },
  {
   "cell_type": "markdown",
   "id": "26ac2e59",
   "metadata": {},
   "source": [
    "# if-else condition in a comprehension**\n",
    "- must come before iteration"
   ]
  },
  {
   "cell_type": "code",
   "execution_count": 49,
   "id": "2973f2dc",
   "metadata": {},
   "outputs": [
    {
     "name": "stdout",
     "output_type": "stream",
     "text": [
      "original list : [5, 3, 10, 18, 6, 7]\n",
      "new_list: [50, 30, 10, 18, 6, 70]\n"
     ]
    }
   ],
   "source": [
    "nums = [5 , 3, 10, 18, 6, 7]\n",
    "\n",
    "print('original list : '+ str(nums))\n",
    "\n",
    "new_list = [ x if x % 2 == 0 else 10*x for x in nums]\n",
    "\n",
    "print('new_list: '+ str(new_list))"
   ]
  },
  {
   "cell_type": "markdown",
   "id": "b0251e7d",
   "metadata": {},
   "source": [
    "**nested loop iteration for 2D list**\n",
    "- b is the subsets, x is the values."
   ]
  },
  {
   "cell_type": "code",
   "execution_count": 48,
   "id": "00342067",
   "metadata": {},
   "outputs": [
    {
     "name": "stdout",
     "output_type": "stream",
     "text": [
      "[1, 2, 3, 4]\n"
     ]
    }
   ],
   "source": [
    "a = [[1,2],[3,4]] # 2D list\n",
    "\n",
    "new_list = [x for b in a for x in b]\n",
    "\n",
    "print(new_list)"
   ]
  },
  {
   "cell_type": "code",
   "execution_count": null,
   "id": "ad985372",
   "metadata": {},
   "outputs": [],
   "source": []
  }
 ],
 "metadata": {
  "kernelspec": {
   "display_name": "Python 3",
   "language": "python",
   "name": "python3"
  },
  "language_info": {
   "codemirror_mode": {
    "name": "ipython",
    "version": 3
   },
   "file_extension": ".py",
   "mimetype": "text/x-python",
   "name": "python",
   "nbconvert_exporter": "python",
   "pygments_lexer": "ipython3",
   "version": "3.7.4"
  }
 },
 "nbformat": 4,
 "nbformat_minor": 5
}
