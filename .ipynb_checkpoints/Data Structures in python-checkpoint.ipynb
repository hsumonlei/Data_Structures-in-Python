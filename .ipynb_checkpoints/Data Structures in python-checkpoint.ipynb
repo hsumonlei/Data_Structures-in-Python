{
 "cells": [
  {
   "cell_type": "markdown",
   "id": "7f8a4710",
   "metadata": {},
   "source": [
    "# Sequence Types : String, lists, Tuple"
   ]
  },
  {
   "cell_type": "markdown",
   "id": "0ef36790",
   "metadata": {},
   "source": [
    "**indexing**\n",
    "-access any item in the sequence using its index.\n",
    "-index starts with 0 for the first element."
   ]
  },
  {
   "cell_type": "code",
   "execution_count": 1,
   "id": "e5214698",
   "metadata": {},
   "outputs": [
    {
     "name": "stdout",
     "output_type": "stream",
     "text": [
      "u\n"
     ]
    }
   ],
   "source": [
    "#string\n",
    "x =\"hsu\"\n",
    "print(x[2])"
   ]
  },
  {
   "cell_type": "code",
   "execution_count": 2,
   "id": "0602fe50",
   "metadata": {},
   "outputs": [
    {
     "name": "stdout",
     "output_type": "stream",
     "text": [
      "lei\n"
     ]
    }
   ],
   "source": [
    "#list\n",
    "x = ['hsu', 'mon', 'lei', 'aung']\n",
    "print(x[2])"
   ]
  },
  {
   "cell_type": "code",
   "execution_count": 3,
   "id": "607e8c44",
   "metadata": {},
   "outputs": [
    {
     "name": "stdout",
     "output_type": "stream",
     "text": [
      "nway\n"
     ]
    }
   ],
   "source": [
    "#tuple \n",
    "x = ('hsu', 'phyo', 'nway')\n",
    "print(x[2])"
   ]
  },
  {
   "cell_type": "markdown",
   "id": "c1b9fc28",
   "metadata": {},
   "source": [
    "**slicing** -slice out substrings, sublists, subtuples using indexes.\n",
    "**[start : end+1 : step]**"
   ]
  },
  {
   "cell_type": "code",
   "execution_count": 12,
   "id": "60e460dc",
   "metadata": {},
   "outputs": [
    {
     "name": "stdout",
     "output_type": "stream",
     "text": [
      "ata\n",
      "dt\n",
      "structure\n",
      "data\n",
      "e\n",
      "ture\n",
      "datastruct\n"
     ]
    }
   ],
   "source": [
    "x ='datastructure'\n",
    "print(x[1:4]) #default step : 1 , start count is inclusive and end is non inclusive\n",
    "print(x[0:4:2])\n",
    "print(x[4:])\n",
    "print(x[:4])\n",
    "print(x[-1]) #negative index means backword sequences\n",
    "print(x[-4:])\n",
    "print(x[:-3])"
   ]
  },
  {
   "cell_type": "markdown",
   "id": "3991f8b9",
   "metadata": {},
   "source": [
    "**adding/ concatenating** - combine 2 sequences of the same type by using +"
   ]
  },
  {
   "cell_type": "code",
   "execution_count": 15,
   "id": "25589135",
   "metadata": {},
   "outputs": [
    {
     "name": "stdout",
     "output_type": "stream",
     "text": [
      "pythonprogramming\n"
     ]
    }
   ],
   "source": [
    "#string\n",
    "x = 'python' + 'programming'\n",
    "print(x)"
   ]
  },
  {
   "cell_type": "code",
   "execution_count": 16,
   "id": "1df4d3b8",
   "metadata": {},
   "outputs": [
    {
     "name": "stdout",
     "output_type": "stream",
     "text": [
      "['python', 'java', 'php']\n"
     ]
    }
   ],
   "source": [
    "#list\n",
    "y = ['python', 'java'] + ['php']\n",
    "print(y)"
   ]
  },
  {
   "cell_type": "code",
   "execution_count": 20,
   "id": "e0c6f8c3",
   "metadata": {},
   "outputs": [
    {
     "name": "stdout",
     "output_type": "stream",
     "text": [
      "('datastructure', 'algorithm', 'softwareEngineering', 'MachineLearning')\n"
     ]
    }
   ],
   "source": [
    "#tuple\n",
    "z =('datastructure', 'algorithm', 'softwareEngineering') + ('MachineLearning',) ## very important comma of second one that tell\n",
    "#python this is a tuple\n",
    "print(z)"
   ]
  },
  {
   "cell_type": "markdown",
   "id": "e5c904fa",
   "metadata": {},
   "source": [
    "**multiplying**-multiply a sequence using *"
   ]
  },
  {
   "cell_type": "code",
   "execution_count": 21,
   "id": "60d4a022",
   "metadata": {},
   "outputs": [
    {
     "name": "stdout",
     "output_type": "stream",
     "text": [
      "yesyesyesyes\n"
     ]
    }
   ],
   "source": [
    "#string\n",
    "x = 'yes' * 4\n",
    "print(x)"
   ]
  },
  {
   "cell_type": "code",
   "execution_count": 23,
   "id": "8cbd7f93",
   "metadata": {},
   "outputs": [
    {
     "name": "stdout",
     "output_type": "stream",
     "text": [
      "[11, 8, 11, 8, 11, 8, 11, 8]\n"
     ]
    }
   ],
   "source": [
    "#list\n",
    "y = [11, 8] * 4\n",
    "print(y)"
   ]
  },
  {
   "cell_type": "code",
   "execution_count": 25,
   "id": "e83d7c29",
   "metadata": {},
   "outputs": [
    {
     "name": "stdout",
     "output_type": "stream",
     "text": [
      "(2, 9, 2, 9, 2, 9, 2, 9)\n"
     ]
    }
   ],
   "source": [
    "#tuple\n",
    "z = (2,9) * 4\n",
    "print(z)"
   ]
  },
  {
   "cell_type": "markdown",
   "id": "24120500",
   "metadata": {},
   "source": [
    "**checking membership** -test whether an item is or is not in a sequence."
   ]
  },
  {
   "cell_type": "code",
   "execution_count": 28,
   "id": "fd57ba5c",
   "metadata": {},
   "outputs": [
    {
     "name": "stdout",
     "output_type": "stream",
     "text": [
      "True\n",
      "True\n",
      "False\n"
     ]
    }
   ],
   "source": [
    "##Return boolean value True or False\n",
    "#string\n",
    "x= 'data'\n",
    "print('a' in x)\n",
    "\n",
    "#list\n",
    "y = ['python', 'java', 'php']\n",
    "print('C++' not in y)\n",
    "\n",
    "#tuple\n",
    "z = ('datastructure', 'algorithm', 'softwareEngineering')\n",
    "print('MachineLearining' in z)"
   ]
  },
  {
   "cell_type": "markdown",
   "id": "52caf445",
   "metadata": {},
   "source": [
    "**iterating**- iterating through the items in a sequence"
   ]
  },
  {
   "cell_type": "code",
   "execution_count": 30,
   "id": "7cee1f48",
   "metadata": {},
   "outputs": [
    {
     "name": "stdout",
     "output_type": "stream",
     "text": [
      "1\n",
      "9\n",
      "7\n",
      "3\n",
      "0 7\n",
      "1 8\n",
      "2 3\n"
     ]
    }
   ],
   "source": [
    "#x is a sequence\n",
    "#print item\n",
    "x = [1,9,7,3]\n",
    "for item in x:\n",
    "    print(item)\n",
    "    \n",
    "    \n",
    "#y is a sequence\n",
    "#print index and item using enumerate() that return both an index and an item\n",
    "y = [7,8,3]\n",
    "for index,item in enumerate(y):\n",
    "    print(index, item)"
   ]
  },
  {
   "cell_type": "markdown",
   "id": "7ad42401",
   "metadata": {},
   "source": [
    "**Counting the number of items** - count the number of items in a sequence"
   ]
  },
  {
   "cell_type": "code",
   "execution_count": 33,
   "id": "7267b32b",
   "metadata": {},
   "outputs": [
    {
     "name": "stdout",
     "output_type": "stream",
     "text": [
      "4\n",
      "3\n",
      "3\n"
     ]
    }
   ],
   "source": [
    "#string\n",
    "x = 'data'\n",
    "print(len(x))\n",
    "\n",
    "#list\n",
    "y = ['python', 'java', 'php']\n",
    "print(len(y))\n",
    "\n",
    "#tuple\n",
    "z = ('datastructure', 'algorithm', 'softwareEngineering')\n",
    "print(len(z))"
   ]
  },
  {
   "cell_type": "markdown",
   "id": "e4afa9f8",
   "metadata": {},
   "source": [
    "**minimum** - find the minimum item in a sequence lexicographically. Alpha or numeric types, but cannot mix types."
   ]
  },
  {
   "cell_type": "code",
   "execution_count": 34,
   "id": "07f1ab85",
   "metadata": {},
   "outputs": [
    {
     "name": "stdout",
     "output_type": "stream",
     "text": [
      "a\n",
      "java\n",
      "algorithm\n"
     ]
    }
   ],
   "source": [
    "#string\n",
    "x = 'data'\n",
    "print(min(x))\n",
    "\n",
    "#list\n",
    "y = ['python', 'java', 'php']\n",
    "print(min(y))\n",
    "\n",
    "#tuple\n",
    "z = ('datastructure', 'algorithm', 'softwareEngineering')\n",
    "print(min(z))"
   ]
  },
  {
   "cell_type": "markdown",
   "id": "4eb64466",
   "metadata": {},
   "source": [
    "**maximum** - find the maximum item in a sequence lexicographically.\n",
    "Alpha or numeric types, but cannot mix types."
   ]
  },
  {
   "cell_type": "code",
   "execution_count": 35,
   "id": "acfe43f2",
   "metadata": {},
   "outputs": [
    {
     "name": "stdout",
     "output_type": "stream",
     "text": [
      "t\n",
      "python\n",
      "softwareEngineering\n"
     ]
    }
   ],
   "source": [
    "#string\n",
    "x = 'data'\n",
    "print(max(x))\n",
    "\n",
    "#list\n",
    "y = ['python', 'java', 'php']\n",
    "print(max(y))\n",
    "\n",
    "#tuple\n",
    "z = ('datastructure', 'algorithm', 'softwareEngineering')\n",
    "print(max(z))"
   ]
  },
  {
   "cell_type": "markdown",
   "id": "5b84e8e1",
   "metadata": {},
   "source": [
    "**sum** - find the sum of items in a sequence.\n",
    "Entire sequence must be numeric."
   ]
  },
  {
   "cell_type": "code",
   "execution_count": 37,
   "id": "dcac5b29",
   "metadata": {},
   "outputs": [
    {
     "name": "stdout",
     "output_type": "stream",
     "text": [
      "6\n"
     ]
    },
    {
     "ename": "TypeError",
     "evalue": "unsupported operand type(s) for +: 'int' and 'str'",
     "output_type": "error",
     "traceback": [
      "\u001b[1;31m---------------------------------------------------------------------------\u001b[0m",
      "\u001b[1;31mTypeError\u001b[0m                                 Traceback (most recent call last)",
      "\u001b[1;32m<ipython-input-37-0345858ee77f>\u001b[0m in \u001b[0;36m<module>\u001b[1;34m\u001b[0m\n\u001b[0;32m      6\u001b[0m \u001b[0mx\u001b[0m \u001b[1;33m=\u001b[0m \u001b[1;33m[\u001b[0m\u001b[1;36m2\u001b[0m\u001b[1;33m,\u001b[0m\u001b[1;36m4\u001b[0m\u001b[1;33m,\u001b[0m \u001b[1;34m'even'\u001b[0m\u001b[1;33m]\u001b[0m\u001b[1;33m\u001b[0m\u001b[1;33m\u001b[0m\u001b[0m\n\u001b[0;32m      7\u001b[0m \u001b[1;31m#shows error\u001b[0m\u001b[1;33m\u001b[0m\u001b[1;33m\u001b[0m\u001b[1;33m\u001b[0m\u001b[0m\n\u001b[1;32m----> 8\u001b[1;33m \u001b[0mprint\u001b[0m\u001b[1;33m(\u001b[0m\u001b[0msum\u001b[0m\u001b[1;33m(\u001b[0m\u001b[0mx\u001b[0m\u001b[1;33m)\u001b[0m\u001b[1;33m)\u001b[0m\u001b[1;33m\u001b[0m\u001b[1;33m\u001b[0m\u001b[0m\n\u001b[0m",
      "\u001b[1;31mTypeError\u001b[0m: unsupported operand type(s) for +: 'int' and 'str'"
     ]
    }
   ],
   "source": [
    "#string\n",
    "x = [1, 2, 3]\n",
    "print(sum(x))\n",
    "\n",
    "# #string \n",
    "# x = [2,4, 'even']\n",
    "# #shows error [ TypeError: unsupported operand type(s) for +: 'int' and 'str' ]\n",
    "# print(sum(x))"
   ]
  },
  {
   "cell_type": "code",
   "execution_count": null,
   "id": "0bd40530",
   "metadata": {},
   "outputs": [],
   "source": []
  }
 ],
 "metadata": {
  "kernelspec": {
   "display_name": "Python 3",
   "language": "python",
   "name": "python3"
  },
  "language_info": {
   "codemirror_mode": {
    "name": "ipython",
    "version": 3
   },
   "file_extension": ".py",
   "mimetype": "text/x-python",
   "name": "python",
   "nbconvert_exporter": "python",
   "pygments_lexer": "ipython3",
   "version": "3.7.4"
  }
 },
 "nbformat": 4,
 "nbformat_minor": 5
}
